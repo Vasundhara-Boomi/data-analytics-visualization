{
 "cells": [
  {
   "cell_type": "code",
   "execution_count": 6,
   "id": "337535ce-a3f8-410b-8e0a-2ae43aa4bc21",
   "metadata": {},
   "outputs": [
    {
     "name": "stdout",
     "output_type": "stream",
     "text": [
      "D\n",
      "\n",
      "0    D\n",
      "1    a\n",
      "2    t\n",
      "3    a\n",
      "dtype: object\n",
      "\n",
      "4     A\n",
      "5     n\n",
      "6     a\n",
      "7     l\n",
      "8     y\n",
      "9     t\n",
      "10    i\n",
      "11    c\n",
      "12    s\n",
      "dtype: object\n"
     ]
    }
   ],
   "source": [
    "# import pandas and numpy\n",
    "import pandas as pd\n",
    "import numpy as np\n",
    "\n",
    "data = np.array(['D', 'a', 't', 'a', 'A', 'n', 'a', 'l', 'y', 't', 'i', 'c', 's'])\n",
    "ser = pd.Series(data)\n",
    "\n",
    "# retrieve the first element\n",
    "print(ser[0]+\"\\n\")\n",
    "\n",
    "# retrieve the first 4 elements\n",
    "print(ser[:4])\n",
    "print()\n",
    "\n",
    "# retrieve the last 9 elements\n",
    "print(ser[-9:])\n"
   ]
  },
  {
   "cell_type": "code",
   "execution_count": 7,
   "id": "6e3880c3-c6d2-41b8-b58c-dfbb7583d9e0",
   "metadata": {},
   "outputs": [
    {
     "name": "stdout",
     "output_type": "stream",
     "text": [
      "A\n",
      "\n",
      "s\n",
      "\n"
     ]
    }
   ],
   "source": [
    "import pandas as pd\n",
    "import numpy as np\n",
    "\n",
    "data = np.array(['D', 'a', 't', 'a', 'A', 'n', 'a', 'l', 'y', 't', 'i', 'c', 's'])\n",
    "ser = pd.Series(data,index=[10,11,12,13,14,15,16,17,18,19,20,21,22])\n",
    "\n",
    "# accessing a element using index element\n",
    "print(ser[14]+\"\\n\")\n",
    "\n",
    "print(ser[22]+\"\\n\")"
   ]
  },
  {
   "cell_type": "code",
   "execution_count": null,
   "id": "6a4c8adb-0246-4043-b3ab-d9ee27235a8b",
   "metadata": {},
   "outputs": [],
   "source": []
  }
 ],
 "metadata": {
  "kernelspec": {
   "display_name": "Python 3 (ipykernel)",
   "language": "python",
   "name": "python3"
  },
  "language_info": {
   "codemirror_mode": {
    "name": "ipython",
    "version": 3
   },
   "file_extension": ".py",
   "mimetype": "text/x-python",
   "name": "python",
   "nbconvert_exporter": "python",
   "pygments_lexer": "ipython3",
   "version": "3.11.4"
  }
 },
 "nbformat": 4,
 "nbformat_minor": 5
}
