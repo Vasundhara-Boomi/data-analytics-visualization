{
 "cells": [
  {
   "cell_type": "code",
   "execution_count": 4,
   "metadata": {},
   "outputs": [
    {
     "name": "stdout",
     "output_type": "stream",
     "text": [
      "Element at row 'B' and column 'Name': Bob\n",
      "\n",
      "Row with label 'C':\n",
      "Name    Charlie\n",
      "Age          22\n",
      "Name: C, dtype: object\n",
      "\n",
      "Column 'Age':\n",
      "A    25\n",
      "B    30\n",
      "C    22\n",
      "Name: Age, dtype: int64\n"
     ]
    }
   ],
   "source": [
    "import pandas as pd\n",
    "\n",
    "data = {'Name': ['Alice', 'Bob', 'Charlie'],\n",
    "        'Age': [25, 30, 22]}\n",
    "df = pd.DataFrame(data, index=['A', 'B', 'C'])\n",
    "\n",
    "# Accessing a specific element by label\n",
    "element = df.loc['B', 'Name']\n",
    "print(f\"Element at row 'B' and column 'Name': {element}\"+\"\\n\")\n",
    "\n",
    "# Accessing an entire row by label\n",
    "row = df.loc['C']\n",
    "print(f\"Row with label 'C':\\n{row}\"+\"\\n\")\n",
    "\n",
    "# Accessing an entire column by label\n",
    "column = df['Age']\n",
    "print(f\"Column 'Age':\\n{column}\")"
   ]
  },
  {
   "cell_type": "code",
   "execution_count": 6,
   "metadata": {},
   "outputs": [
    {
     "name": "stdout",
     "output_type": "stream",
     "text": [
      "Rows where Age is greater than 24: \n",
      "\n",
      "    Name  Age\n",
      "0  Alice   25\n",
      "1    Bob   30\n"
     ]
    }
   ],
   "source": [
    "import pandas as pd\n",
    "\n",
    "data = {'Name': ['Alice', 'Bob', 'Charlie'],\n",
    "        'Age': [25, 30, 22]}\n",
    "df = pd.DataFrame(data)\n",
    "\n",
    "# Boolean indexing to filter rows based on a condition\n",
    "condition = df['Age'] > 24\n",
    "filtered_df = df[condition]\n",
    "print(\"Rows where Age is greater than 24: \\n\")\n",
    "print(filtered_df)"
   ]
  }
 ],
 "metadata": {
  "kernelspec": {
   "display_name": "Python 3",
   "language": "python",
   "name": "python3"
  },
  "language_info": {
   "codemirror_mode": {
    "name": "ipython",
    "version": 3
   },
   "file_extension": ".py",
   "mimetype": "text/x-python",
   "name": "python",
   "nbconvert_exporter": "python",
   "pygments_lexer": "ipython3",
   "version": "3.10.11"
  },
  "orig_nbformat": 4
 },
 "nbformat": 4,
 "nbformat_minor": 2
}
