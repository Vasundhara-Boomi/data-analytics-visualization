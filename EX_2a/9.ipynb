{
 "cells": [
  {
   "cell_type": "code",
   "execution_count": 2,
   "metadata": {},
   "outputs": [
    {
     "name": "stdout",
     "output_type": "stream",
     "text": [
      "Subset of DataFrame:\n",
      "      Name  Age\n",
      "1      Bob   30\n",
      "2  Charlie   22\n",
      "3    David   28\n"
     ]
    }
   ],
   "source": [
    "import pandas as pd\n",
    "\n",
    "data = {'Name': ['Alice', 'Bob', 'Charlie', 'David', 'Eve'],\n",
    "        'Age': [25, 30, 22, 28, 35]}\n",
    "df = pd.DataFrame(data)\n",
    "\n",
    "# Slicing to access a subset of rows and columns\n",
    "subset = df.loc[1:3, 'Name':'Age']\n",
    "print(\"Subset of DataFrame:\")\n",
    "print(subset)"
   ]
  },
  {
   "cell_type": "code",
   "execution_count": 4,
   "metadata": {},
   "outputs": [
    {
     "name": "stdout",
     "output_type": "stream",
     "text": [
      "Filtered DataFrame: \n",
      "\n",
      "    Name  Age\n",
      "1    Bob   30\n",
      "3  David   28\n",
      "4    Eve   35\n"
     ]
    }
   ],
   "source": [
    "import pandas as pd\n",
    "\n",
    "data = {'Name': ['Alice', 'Bob', 'Charlie', 'David', 'Eve'],\n",
    "        'Age': [25, 30, 22, 28, 35]}\n",
    "df = pd.DataFrame(data)\n",
    "\n",
    "# Filtering rows based on a condition\n",
    "condition = df['Age'] > 25\n",
    "filtered_df = df[condition]\n",
    "print(\"Filtered DataFrame: \\n\")\n",
    "print(filtered_df)"
   ]
  }
 ],
 "metadata": {
  "kernelspec": {
   "display_name": "Python 3",
   "language": "python",
   "name": "python3"
  },
  "language_info": {
   "codemirror_mode": {
    "name": "ipython",
    "version": 3
   },
   "file_extension": ".py",
   "mimetype": "text/x-python",
   "name": "python",
   "nbconvert_exporter": "python",
   "pygments_lexer": "ipython3",
   "version": "3.10.11"
  },
  "orig_nbformat": 4
 },
 "nbformat": 4,
 "nbformat_minor": 2
}
