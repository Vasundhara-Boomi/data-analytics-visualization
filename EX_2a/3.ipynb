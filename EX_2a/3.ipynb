{
 "cells": [
  {
   "cell_type": "code",
   "execution_count": 9,
   "id": "0ab733b6-14c8-4688-943a-53d766d6b293",
   "metadata": {},
   "outputs": [
    {
     "name": "stdout",
     "output_type": "stream",
     "text": [
      "The Series contains:\n",
      "0    A\n",
      "1    B\n",
      "2    C\n",
      "3    D\n",
      "Name: PANDAS, dtype: object\n"
     ]
    }
   ],
   "source": [
    "import pandas as pd\n",
    "\n",
    "x = pd.Series(['A', 'B', 'C', 'D'])\n",
    "x.name = \"PANDAS\"\n",
    "\n",
    "print(\"The Series contains:\")\n",
    "print(x)"
   ]
  },
  {
   "cell_type": "code",
   "execution_count": 1,
   "id": "cf750133-c1ff-4c58-a0d9-437d2725de80",
   "metadata": {},
   "outputs": [
    {
     "name": "stdout",
     "output_type": "stream",
     "text": [
      "The Series contains:\n",
      "0     John\n",
      "1    Marry\n",
      "2       Jo\n",
      "3      Sam\n",
      "dtype: object\n",
      "\n",
      "The index (axis labels) are:\n",
      "RangeIndex(start=0, stop=4, step=1)\n"
     ]
    }
   ],
   "source": [
    "import pandas as pd\n",
    "\n",
    "x = pd.Series(['A', 'B', 'C', 'D'])\n",
    "\n",
    "print(\"The Series contains:\")\n",
    "print(x)\n",
    "\n",
    "print(\"\\nThe index (axis labels) are:\")\n",
    "print(x.index)"
   ]
  },
  {
   "cell_type": "code",
   "execution_count": 3,
   "id": "b52ba612-9f6e-4a95-ab2a-b932dc5cbcb7",
   "metadata": {},
   "outputs": [
    {
     "name": "stdout",
     "output_type": "stream",
     "text": [
      "Is x empty?: False\n",
      "Is y empty?: True\n"
     ]
    }
   ],
   "source": [
    "import pandas as pd\n",
    " \n",
    "x = pd.Series(['A', 'B', 'C', 'D'])\n",
    "y = pd.Series(dtype=\"float64\")\n",
    "\n",
    "print(\"Is x empty?:\", x.empty)\n",
    "print(\"Is y empty?:\", y.empty)"
   ]
  },
  {
   "cell_type": "code",
   "execution_count": 4,
   "id": "dd0df544-a16e-40c4-9149-0146e03b3578",
   "metadata": {},
   "outputs": [
    {
     "name": "stdout",
     "output_type": "stream",
     "text": [
      "The Series is:\n",
      "0    A\n",
      "1    B\n",
      "2    C\n",
      "3    D\n",
      "dtype: object\n",
      "\n",
      "The number of elements in the Series: 4\n"
     ]
    }
   ],
   "source": [
    "import pandas as pd\n",
    "\n",
    "x = pd.Series(['A', 'B', 'C', 'D'])\n",
    "\n",
    "print(\"The Series is:\")\n",
    "print(x)\n",
    "\n",
    "print(\"\\nThe number of elements in the Series:\", x.size)"
   ]
  },
  {
   "cell_type": "code",
   "execution_count": 5,
   "id": "4ccbaa03-73e0-44c1-8b6a-3653bb655591",
   "metadata": {},
   "outputs": [
    {
     "name": "stdout",
     "output_type": "stream",
     "text": [
      "The Series is:\n",
      "0    A\n",
      "1    B\n",
      "2    C\n",
      "3    D\n",
      "dtype: object\n",
      "\n",
      "The actual data in the series is:\n",
      "['A' 'B' 'C' 'D']\n"
     ]
    }
   ],
   "source": [
    "import pandas as pd\n",
    "\n",
    "x = pd.Series(['A', 'B', 'C', 'D'])\n",
    "\n",
    "print(\"The Series is:\")\n",
    "print(x)\n",
    "\n",
    "print(\"\\nThe actual data in the series is:\")\n",
    "print(x.values)"
   ]
  },
  {
   "cell_type": "code",
   "execution_count": 10,
   "id": "0dfc1ead-7d9f-45db-8d8a-9f0804e79a9a",
   "metadata": {},
   "outputs": [
    {
     "data": {
      "text/plain": [
       "'x'"
      ]
     },
     "execution_count": 10,
     "metadata": {},
     "output_type": "execute_result"
    }
   ],
   "source": [
    "idx = pd.Index([1, 2, 3], name='x')\n",
    "idx.name\n"
   ]
  },
  {
   "cell_type": "code",
   "execution_count": null,
   "id": "4c17c057-c798-49ea-8b00-8f7edd516fd1",
   "metadata": {},
   "outputs": [],
   "source": []
  }
 ],
 "metadata": {
  "kernelspec": {
   "display_name": "Python 3 (ipykernel)",
   "language": "python",
   "name": "python3"
  },
  "language_info": {
   "codemirror_mode": {
    "name": "ipython",
    "version": 3
   },
   "file_extension": ".py",
   "mimetype": "text/x-python",
   "name": "python",
   "nbconvert_exporter": "python",
   "pygments_lexer": "ipython3",
   "version": "3.11.4"
  }
 },
 "nbformat": 4,
 "nbformat_minor": 5
}
