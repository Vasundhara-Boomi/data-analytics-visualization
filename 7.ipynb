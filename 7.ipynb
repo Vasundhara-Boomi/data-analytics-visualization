{
 "cells": [
  {
   "cell_type": "code",
   "execution_count": null,
   "metadata": {},
   "outputs": [],
   "source": [
    "import pandas as pd\n",
    "\n",
    "# Create a DataFrame from a list of dictionaries\n",
    "data_list_of_dicts = [{'ID': 1, 'Name': 'Alice', 'Age': 25},\n",
    "                      {'ID': 2, 'Name': 'Bob', 'Age': 30},\n",
    "                      {'ID': 3, 'Name': 'Charlie', 'Age': 22}]\n",
    "df_from_dict_list = pd.DataFrame(data_list_of_dicts)\n",
    "print(df_from_dict_list)"
   ]
  }
 ],
 "metadata": {
  "kernelspec": {
   "display_name": "Python 3",
   "language": "python",
   "name": "python3"
  },
  "language_info": {
   "name": "python",
   "version": "3.10.11"
  },
  "orig_nbformat": 4
 },
 "nbformat": 4,
 "nbformat_minor": 2
}
