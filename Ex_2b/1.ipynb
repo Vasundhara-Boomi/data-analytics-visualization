{
 "cells": [
  {
   "cell_type": "code",
   "execution_count": 2,
   "metadata": {},
   "outputs": [
    {
     "name": "stdout",
     "output_type": "stream",
     "text": [
      "0     A\n",
      "1     B\n",
      "2     C\n",
      "3     D\n",
      "4     E\n",
      "5     F\n",
      "6     G\n",
      "7     H\n",
      "8     I\n",
      "9     J\n",
      "10    K\n",
      "11    L\n",
      "12    M\n",
      "13    N\n",
      "14    O\n",
      "15    P\n",
      "16    Q\n",
      "17    R\n",
      "18    S\n",
      "19    T\n",
      "20    U\n",
      "21    V\n",
      "22    W\n",
      "23    X\n",
      "24    Y\n",
      "25    Z\n",
      "dtype: object\n"
     ]
    }
   ],
   "source": [
    "import pandas as pd\n",
    "alph =[chr(i) for i in range(65,91)]\n",
    "engAlph = pd.Series(alph)\n",
    "print(engAlph)"
   ]
  },
  {
   "cell_type": "code",
   "execution_count": 3,
   "metadata": {},
   "outputs": [
    {
     "name": "stdout",
     "output_type": "stream",
     "text": [
      "a    1\n",
      "e    2\n",
      "i    3\n",
      "o    4\n",
      "u    5\n",
      "dtype: int64\n",
      "a    0\n",
      "e    0\n",
      "i    0\n",
      "o    0\n",
      "u    0\n",
      "dtype: int64\n",
      "\n",
      "is empty False\n"
     ]
    }
   ],
   "source": [
    "import pandas as pd\n",
    "vowels = pd.Series([1,2,3,4,5],index=list('aeiou'))\n",
    "print(vowels)\n",
    "vowels[vowels!='not zero']=0 #\n",
    "print(vowels)\n",
    "print()\n",
    "print('is empty',vowels.empty)"
   ]
  },
  {
   "cell_type": "code",
   "execution_count": 5,
   "metadata": {},
   "outputs": [
    {
     "name": "stdout",
     "output_type": "stream",
     "text": [
      "data                                 [1, 2, 3, 4, 5]\n",
      "first name    [Panda, Data, Python, Columns, Frames]\n",
      "dtype: object\n"
     ]
    }
   ],
   "source": [
    "import pandas as pd\n",
    "di={'data':[1,2,3,4,5],'first name':['Panda','Data','Python','Columns','Frames']}\n",
    "friends = pd.Series(di)\n",
    "print(friends)"
   ]
  },
  {
   "cell_type": "code",
   "execution_count": 6,
   "metadata": {},
   "outputs": [
    {
     "name": "stdout",
     "output_type": "stream",
     "text": [
      "Series is empty\n"
     ]
    }
   ],
   "source": [
    "import pandas as pd\n",
    "MTseries = pd.Series()\n",
    "print(['Series is not empty','Series is empty'][MTseries.empty])"
   ]
  },
  {
   "cell_type": "code",
   "execution_count": 7,
   "metadata": {},
   "outputs": [
    {
     "name": "stdout",
     "output_type": "stream",
     "text": [
      "1     31\n",
      "2     28\n",
      "3     31\n",
      "4     30\n",
      "5     31\n",
      "6     30\n",
      "7     31\n",
      "8     31\n",
      "9     30\n",
      "10    31\n",
      "11    30\n",
      "12    31\n",
      "dtype: int32\n"
     ]
    }
   ],
   "source": [
    "import pandas as pd\n",
    "import numpy as np\n",
    "array1 = np.array([31,28,31,30,31,30,31,31,30,31,30,31])\n",
    "MonthDays = pd.Series(array1,index=[1,2,3,4,5,6,7,8,9,10,11,12])\n",
    "print(MonthDays)"
   ]
  }
 ],
 "metadata": {
  "kernelspec": {
   "display_name": "Python 3",
   "language": "python",
   "name": "python3"
  },
  "language_info": {
   "codemirror_mode": {
    "name": "ipython",
    "version": 3
   },
   "file_extension": ".py",
   "mimetype": "text/x-python",
   "name": "python",
   "nbconvert_exporter": "python",
   "pygments_lexer": "ipython3",
   "version": "3.10.11"
  },
  "orig_nbformat": 4
 },
 "nbformat": 4,
 "nbformat_minor": 2
}
