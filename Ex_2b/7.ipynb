{
 "cells": [
  {
   "cell_type": "code",
   "execution_count": 9,
   "metadata": {},
   "outputs": [
    {
     "name": "stdout",
     "output_type": "stream",
     "text": [
      "            2014   2015    2016    2018\n",
      "Madhu      100.5  12000   20000  160000\n",
      "Kusum      150.8  18000   50000  110000\n",
      "Kinshuk    200.9  22000   70000  500000\n",
      "Ankit    30000.0  30000  100000  340000\n"
     ]
    }
   ],
   "source": [
    "import pandas as pd\n",
    "\n",
    "#Sales1\n",
    "d = {2014:[100.5,150.8,200.9,30000],\n",
    "     2015:[12000,18000,22000,30000],\n",
    "     2016:[20000,50000,70000,100000]}\n",
    "Sales1=pd.DataFrame(d,index=['Madhu',\"Kusum\",\"Kinshuk\",\"Ankit\"])\n",
    "\n",
    "#Sales 2\n",
    "dict1={2018:[160000,110000,500000,340000]}\n",
    "Sales2=pd.DataFrame(dict1,index=[\"Madhu\",\"Kusum\",\"Kinshuk\",\"Ankit\"])\n",
    "\n",
    "#Appending Dataframes\n",
    "Sales = pd.concat([Sales1, Sales2], axis=1)\n",
    "print(Sales)\n"
   ]
  },
  {
   "cell_type": "code",
   "execution_count": 23,
   "metadata": {},
   "outputs": [
    {
     "name": "stdout",
     "output_type": "stream",
     "text": [
      "        Madhu    Kusum  Kinshuk    Ankit    Shruti\n",
      "2014    100.5    150.8    200.9  30000.0    4000.0\n",
      "2015  12000.0  18000.0  22000.0  30000.0   45000.0\n",
      "2016  20000.0  50000.0  70000.0  10000.0  125000.0\n",
      "2017  50000.0  60000.0  70000.0  80000.0   90000.0\n"
     ]
    }
   ],
   "source": [
    "import pandas as pd\n",
    "\n",
    "d = {2014:[100.5,150.8,200.9,30000,4000],\n",
    "     2015:[12000,18000,22000,30000,45000],\n",
    "     2016:[20000,50000,70000,10000,125000],\n",
    "     2017:[50000,60000,70000,80000,90000]}\n",
    "Sales=pd.DataFrame(d,index=['Madhu',\"Kusum\",\"Kinshuk\",\"Ankit\",\"Shruti\"])\n",
    "\n",
    "print(Sales.T)\n"
   ]
  },
  {
   "cell_type": "code",
   "execution_count": 27,
   "metadata": {},
   "outputs": [
    {
     "name": "stdout",
     "output_type": "stream",
     "text": [
      "Madhu      50000\n",
      "Kusum      60000\n",
      "Kinshuk    70000\n",
      "Ankit      80000\n",
      "Shruti     90000\n",
      "Name: 2017, dtype: int64\n"
     ]
    }
   ],
   "source": [
    "print(Sales[2017])"
   ]
  },
  {
   "cell_type": "code",
   "execution_count": 28,
   "metadata": {},
   "outputs": [
    {
     "name": "stdout",
     "output_type": "stream",
     "text": [
      "        2017    2018\n",
      "Madhu  50000  160000\n",
      "Ankit  80000  340000\n"
     ]
    }
   ],
   "source": [
    "Sales[2018]=[160000,110000,500000,340000,900000]\n",
    "\n",
    "print(Sales.loc[['Madhu','Ankit'], [2017,2018]])"
   ]
  },
  {
   "cell_type": "code",
   "execution_count": 29,
   "metadata": {},
   "outputs": [
    {
     "name": "stdout",
     "output_type": "stream",
     "text": [
      "Shruti    125000\n",
      "Name: 2016, dtype: int64\n"
     ]
    }
   ],
   "source": [
    "print(Sales.loc[Sales.index=='Shruti',2016])"
   ]
  },
  {
   "cell_type": "code",
   "execution_count": 30,
   "metadata": {},
   "outputs": [
    {
     "name": "stdout",
     "output_type": "stream",
     "text": [
      "            2014     2015      2016     2017      2018\n",
      "Madhu      100.5  12000.0   20000.0  50000.0  160000.0\n",
      "Kusum      150.8  18000.0   50000.0  60000.0  110000.0\n",
      "Kinshuk    200.9  22000.0   70000.0  70000.0  500000.0\n",
      "Ankit    30000.0  30000.0   10000.0  80000.0  340000.0\n",
      "Shruti    4000.0  45000.0  125000.0  90000.0  900000.0\n",
      "Sumeet     196.2  37800.0   52000.0  78438.0   38852.0\n"
     ]
    }
   ],
   "source": [
    "Sales.loc[\"Sumeet\"]=[196.2,37800,52000,78438,38852]\n",
    "print(Sales)"
   ]
  },
  {
   "cell_type": "code",
   "execution_count": 31,
   "metadata": {},
   "outputs": [
    {
     "data": {
      "text/html": [
       "<div>\n",
       "<style scoped>\n",
       "    .dataframe tbody tr th:only-of-type {\n",
       "        vertical-align: middle;\n",
       "    }\n",
       "\n",
       "    .dataframe tbody tr th {\n",
       "        vertical-align: top;\n",
       "    }\n",
       "\n",
       "    .dataframe thead th {\n",
       "        text-align: right;\n",
       "    }\n",
       "</style>\n",
       "<table border=\"1\" class=\"dataframe\">\n",
       "  <thead>\n",
       "    <tr style=\"text-align: right;\">\n",
       "      <th></th>\n",
       "      <th>2015</th>\n",
       "      <th>2016</th>\n",
       "      <th>2017</th>\n",
       "      <th>2018</th>\n",
       "    </tr>\n",
       "  </thead>\n",
       "  <tbody>\n",
       "    <tr>\n",
       "      <th>Madhu</th>\n",
       "      <td>12000.0</td>\n",
       "      <td>20000.0</td>\n",
       "      <td>50000.0</td>\n",
       "      <td>160000.0</td>\n",
       "    </tr>\n",
       "    <tr>\n",
       "      <th>Kusum</th>\n",
       "      <td>18000.0</td>\n",
       "      <td>50000.0</td>\n",
       "      <td>60000.0</td>\n",
       "      <td>110000.0</td>\n",
       "    </tr>\n",
       "    <tr>\n",
       "      <th>Kinshuk</th>\n",
       "      <td>22000.0</td>\n",
       "      <td>70000.0</td>\n",
       "      <td>70000.0</td>\n",
       "      <td>500000.0</td>\n",
       "    </tr>\n",
       "    <tr>\n",
       "      <th>Ankit</th>\n",
       "      <td>30000.0</td>\n",
       "      <td>10000.0</td>\n",
       "      <td>80000.0</td>\n",
       "      <td>340000.0</td>\n",
       "    </tr>\n",
       "    <tr>\n",
       "      <th>Shruti</th>\n",
       "      <td>45000.0</td>\n",
       "      <td>125000.0</td>\n",
       "      <td>90000.0</td>\n",
       "      <td>900000.0</td>\n",
       "    </tr>\n",
       "    <tr>\n",
       "      <th>Sumeet</th>\n",
       "      <td>37800.0</td>\n",
       "      <td>52000.0</td>\n",
       "      <td>78438.0</td>\n",
       "      <td>38852.0</td>\n",
       "    </tr>\n",
       "  </tbody>\n",
       "</table>\n",
       "</div>"
      ],
      "text/plain": [
       "            2015      2016     2017      2018\n",
       "Madhu    12000.0   20000.0  50000.0  160000.0\n",
       "Kusum    18000.0   50000.0  60000.0  110000.0\n",
       "Kinshuk  22000.0   70000.0  70000.0  500000.0\n",
       "Ankit    30000.0   10000.0  80000.0  340000.0\n",
       "Shruti   45000.0  125000.0  90000.0  900000.0\n",
       "Sumeet   37800.0   52000.0  78438.0   38852.0"
      ]
     },
     "execution_count": 31,
     "metadata": {},
     "output_type": "execute_result"
    }
   ],
   "source": [
    "Sales.drop(columns=2014)"
   ]
  },
  {
   "cell_type": "code",
   "execution_count": 32,
   "metadata": {},
   "outputs": [
    {
     "data": {
      "text/html": [
       "<div>\n",
       "<style scoped>\n",
       "    .dataframe tbody tr th:only-of-type {\n",
       "        vertical-align: middle;\n",
       "    }\n",
       "\n",
       "    .dataframe tbody tr th {\n",
       "        vertical-align: top;\n",
       "    }\n",
       "\n",
       "    .dataframe thead th {\n",
       "        text-align: right;\n",
       "    }\n",
       "</style>\n",
       "<table border=\"1\" class=\"dataframe\">\n",
       "  <thead>\n",
       "    <tr style=\"text-align: right;\">\n",
       "      <th></th>\n",
       "      <th>2014</th>\n",
       "      <th>2015</th>\n",
       "      <th>2016</th>\n",
       "      <th>2017</th>\n",
       "      <th>2018</th>\n",
       "    </tr>\n",
       "  </thead>\n",
       "  <tbody>\n",
       "    <tr>\n",
       "      <th>Madhu</th>\n",
       "      <td>100.5</td>\n",
       "      <td>12000.0</td>\n",
       "      <td>20000.0</td>\n",
       "      <td>50000.0</td>\n",
       "      <td>160000.0</td>\n",
       "    </tr>\n",
       "    <tr>\n",
       "      <th>Kusum</th>\n",
       "      <td>150.8</td>\n",
       "      <td>18000.0</td>\n",
       "      <td>50000.0</td>\n",
       "      <td>60000.0</td>\n",
       "      <td>110000.0</td>\n",
       "    </tr>\n",
       "    <tr>\n",
       "      <th>Ankit</th>\n",
       "      <td>30000.0</td>\n",
       "      <td>30000.0</td>\n",
       "      <td>10000.0</td>\n",
       "      <td>80000.0</td>\n",
       "      <td>340000.0</td>\n",
       "    </tr>\n",
       "    <tr>\n",
       "      <th>Shruti</th>\n",
       "      <td>4000.0</td>\n",
       "      <td>45000.0</td>\n",
       "      <td>125000.0</td>\n",
       "      <td>90000.0</td>\n",
       "      <td>900000.0</td>\n",
       "    </tr>\n",
       "    <tr>\n",
       "      <th>Sumeet</th>\n",
       "      <td>196.2</td>\n",
       "      <td>37800.0</td>\n",
       "      <td>52000.0</td>\n",
       "      <td>78438.0</td>\n",
       "      <td>38852.0</td>\n",
       "    </tr>\n",
       "  </tbody>\n",
       "</table>\n",
       "</div>"
      ],
      "text/plain": [
       "           2014     2015      2016     2017      2018\n",
       "Madhu     100.5  12000.0   20000.0  50000.0  160000.0\n",
       "Kusum     150.8  18000.0   50000.0  60000.0  110000.0\n",
       "Ankit   30000.0  30000.0   10000.0  80000.0  340000.0\n",
       "Shruti   4000.0  45000.0  125000.0  90000.0  900000.0\n",
       "Sumeet    196.2  37800.0   52000.0  78438.0   38852.0"
      ]
     },
     "execution_count": 32,
     "metadata": {},
     "output_type": "execute_result"
    }
   ],
   "source": [
    "Sales.drop(\"Kinshuk\",axis=0)\n",
    "Sales.drop(\"Kinshuk\")"
   ]
  },
  {
   "cell_type": "code",
   "execution_count": 33,
   "metadata": {},
   "outputs": [
    {
     "name": "stdout",
     "output_type": "stream",
     "text": [
      "             2014     2015      2016     2017      2018\n",
      "Shailesh    100.5  12000.0   20000.0  50000.0  160000.0\n",
      "Kusum       150.8  18000.0   50000.0  60000.0  110000.0\n",
      "Kinshuk     200.9  22000.0   70000.0  70000.0  500000.0\n",
      "Vivaan    30000.0  30000.0   10000.0  80000.0  340000.0\n",
      "Shruti     4000.0  45000.0  125000.0  90000.0  900000.0\n",
      "Sumeet      196.2  37800.0   52000.0  78438.0   38852.0\n"
     ]
    }
   ],
   "source": [
    "Sales=Sales.rename({\"Ankit\":\"Vivaan\",\"Madhu\":\"Shailesh\"},axis=\"index\")\n",
    "print(Sales)"
   ]
  },
  {
   "cell_type": "code",
   "execution_count": 34,
   "metadata": {},
   "outputs": [
    {
     "name": "stdout",
     "output_type": "stream",
     "text": [
      "             2014     2015      2016     2017      2018\n",
      "Shailesh    100.5  12000.0   20000.0  50000.0  100000.0\n",
      "Kusum       150.8  18000.0   50000.0  60000.0  110000.0\n",
      "Kinshuk     200.9  22000.0   70000.0  70000.0  500000.0\n",
      "Vivaan    30000.0  30000.0   10000.0  80000.0  340000.0\n",
      "Shruti     4000.0  45000.0  125000.0  90000.0  900000.0\n",
      "Sumeet      196.2  37800.0   52000.0  78438.0   38852.0\n"
     ]
    }
   ],
   "source": [
    "Sales.loc[Sales.index==\"Shailesh\",2018]=100000\n",
    "print(Sales)"
   ]
  },
  {
   "cell_type": "code",
   "execution_count": 35,
   "metadata": {},
   "outputs": [],
   "source": [
    "Sales.to_csv(\"salesFigures.csv\",index=False,header=False)"
   ]
  },
  {
   "cell_type": "code",
   "execution_count": 36,
   "metadata": {},
   "outputs": [
    {
     "name": "stdout",
     "output_type": "stream",
     "text": [
      "            2015      2016     2017      2018\n",
      "100.5    12000.0   20000.0  50000.0  100000.0\n",
      "150.8    18000.0   50000.0  60000.0  110000.0\n",
      "200.9    22000.0   70000.0  70000.0  500000.0\n",
      "30000.0  30000.0   10000.0  80000.0  340000.0\n",
      "4000.0   45000.0  125000.0  90000.0  900000.0\n",
      "196.2    37800.0   52000.0  78438.0   38852.0\n"
     ]
    }
   ],
   "source": [
    "salesretrieved=pd.read_csv(\"salesFigures.csv\",names=['2015','2016','2017','2018'])\n",
    "print(salesretrieved)"
   ]
  },
  {
   "cell_type": "code",
   "execution_count": 37,
   "metadata": {},
   "outputs": [
    {
     "name": "stdout",
     "output_type": "stream",
     "text": [
      "            2015      2016     2017      2018\n",
      "Madhu    12000.0   20000.0  50000.0  100000.0\n",
      "Kusum    18000.0   50000.0  60000.0  110000.0\n",
      "Kinshuk  22000.0   70000.0  70000.0  500000.0\n",
      "Ankit    30000.0   10000.0  80000.0  340000.0\n",
      "Shruti   45000.0  125000.0  90000.0  900000.0\n",
      "Sumeet   37800.0   52000.0  78438.0   38852.0\n"
     ]
    }
   ],
   "source": [
    "salesretrieved.index=[\"Madhu\", \"Kusum\", \"Kinshuk\", \"Ankit\", \"Shruti\",\"Sumeet\"]\n",
    "print(salesretrieved)"
   ]
  }
 ],
 "metadata": {
  "kernelspec": {
   "display_name": "Python 3",
   "language": "python",
   "name": "python3"
  },
  "language_info": {
   "codemirror_mode": {
    "name": "ipython",
    "version": 3
   },
   "file_extension": ".py",
   "mimetype": "text/x-python",
   "name": "python",
   "nbconvert_exporter": "python",
   "pygments_lexer": "ipython3",
   "version": "3.10.11"
  },
  "orig_nbformat": 4
 },
 "nbformat": 4,
 "nbformat_minor": 2
}
