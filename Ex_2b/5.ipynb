{
 "cells": [
  {
   "cell_type": "code",
   "execution_count": 2,
   "metadata": {},
   "outputs": [
    {
     "name": "stdout",
     "output_type": "stream",
     "text": [
      "            2014   2015    2016\n",
      "Madhu      100.5  12000   20000\n",
      "Kusum      150.8  18000   50000\n",
      "Kinshuk    200.9  22000   70000\n",
      "Ankit    30000.0  30000  100000\n"
     ]
    }
   ],
   "source": [
    "import pandas as pd\n",
    "d = {2014:[100.5,150.8,200.9,30000],\n",
    "     2015:[12000,18000,22000,30000],\n",
    "     2016:[20000,50000,70000,100000]}\n",
    "Sales=pd.DataFrame(d,index=['Madhu',\"Kusum\",\"Kinshuk\",\"Ankit\"])\n",
    "print(Sales)"
   ]
  }
 ],
 "metadata": {
  "kernelspec": {
   "display_name": "Python 3",
   "language": "python",
   "name": "python3"
  },
  "language_info": {
   "codemirror_mode": {
    "name": "ipython",
    "version": 3
   },
   "file_extension": ".py",
   "mimetype": "text/x-python",
   "name": "python",
   "nbconvert_exporter": "python",
   "pygments_lexer": "ipython3",
   "version": "3.10.11"
  },
  "orig_nbformat": 4
 },
 "nbformat": 4,
 "nbformat_minor": 2
}
