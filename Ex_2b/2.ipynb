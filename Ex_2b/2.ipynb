{
 "cells": [
  {
   "cell_type": "code",
   "execution_count": 2,
   "metadata": {},
   "outputs": [
    {
     "name": "stdout",
     "output_type": "stream",
     "text": [
      "a    1\n",
      "e    2\n",
      "i    3\n",
      "o    4\n",
      "u    5\n",
      "dtype: int64\n",
      "\n",
      "a    10\n",
      "e    10\n",
      "i    10\n",
      "o    10\n",
      "u    10\n",
      "dtype: int64\n"
     ]
    }
   ],
   "source": [
    "import pandas as pd\n",
    "vowels = pd.Series([1,2,3,4,5],index=list('aeiou'))\n",
    "print(vowels)\n",
    "print()\n",
    "vowels[vowels!='not ten']=10 \n",
    "print(vowels)"
   ]
  },
  {
   "cell_type": "code",
   "execution_count": 3,
   "metadata": {},
   "outputs": [
    {
     "name": "stdout",
     "output_type": "stream",
     "text": [
      "a    1\n",
      "e    2\n",
      "i    3\n",
      "o    4\n",
      "u    5\n",
      "dtype: int64\n",
      "\n",
      "a    10\n",
      "e    10\n",
      "i    10\n",
      "o    10\n",
      "u    10\n",
      "dtype: int64\n",
      "a    5.0\n",
      "e    5.0\n",
      "i    5.0\n",
      "o    5.0\n",
      "u    5.0\n",
      "dtype: float64\n"
     ]
    }
   ],
   "source": [
    "import pandas as pd\n",
    "vowels = pd.Series([1,2,3,4,5],index=list('aeiou'))\n",
    "print(vowels)\n",
    "print()\n",
    "vowels[vowels!='not ten']=10 # all values changed to '10'\n",
    "print(vowels)\n",
    "vowels=vowels/2\n",
    "print(vowels)"
   ]
  },
  {
   "cell_type": "code",
   "execution_count": 4,
   "metadata": {},
   "outputs": [
    {
     "name": "stdout",
     "output_type": "stream",
     "text": [
      "a    2\n",
      "e    5\n",
      "i    6\n",
      "o    3\n",
      "u    8\n",
      "dtype: int64\n"
     ]
    }
   ],
   "source": [
    "import pandas as pd\n",
    "vowels = pd.Series([2,5,6,3,8],index=list('aeiou'))\n",
    "print(vowels)"
   ]
  },
  {
   "cell_type": "code",
   "execution_count": 5,
   "metadata": {},
   "outputs": [
    {
     "name": "stdout",
     "output_type": "stream",
     "text": [
      "\n",
      "a     7.0\n",
      "e    10.0\n",
      "i    11.0\n",
      "o     8.0\n",
      "u    13.0\n",
      "dtype: float64\n"
     ]
    }
   ],
   "source": [
    "import pandas as pd\n",
    "vowels = pd.Series([1,2,3,4,5],index=list('aeiou'))\n",
    "print()\n",
    "vowels[vowels!='not ten']=10 # all values changed to '10'\n",
    "vowels=vowels/2\n",
    "vowels1 = pd.Series([2,5,6,3,8],index=list('aeiou'))\n",
    "vowels3=vowels1+vowels\n",
    "print(vowels3)"
   ]
  },
  {
   "cell_type": "code",
   "execution_count": 6,
   "metadata": {},
   "outputs": [
    {
     "name": "stdout",
     "output_type": "stream",
     "text": [
      "\n",
      "a     7.0\n",
      "e    10.0\n",
      "i    11.0\n",
      "o     8.0\n",
      "u    13.0\n",
      "dtype: float64\n"
     ]
    }
   ],
   "source": [
    "import pandas as pd\n",
    "vowels = pd.Series([1,2,3,4,5],index=list('aeiou'))\n",
    "print()\n",
    "vowels[vowels!='not ten']=10 # all values changed to '10'\n",
    "vowels=vowels/2\n",
    "vowels1 = pd.Series([2,5,6,3,8],index=list('aeiou'))\n",
    "vowels3=vowels1+vowels\n",
    "print(vowels3)\n",
    "Subtract=vowels-vowels1\n",
    "Multiply=vowels*vowels1\n",
    "Divide=vowels/vowels1"
   ]
  },
  {
   "cell_type": "code",
   "execution_count": 7,
   "metadata": {},
   "outputs": [
    {
     "name": "stdout",
     "output_type": "stream",
     "text": [
      "\n",
      "a     7.0\n",
      "e    10.0\n",
      "i    11.0\n",
      "o     8.0\n",
      "u    13.0\n",
      "dtype: float64\n",
      "A    2\n",
      "E    5\n",
      "I    6\n",
      "O    3\n",
      "U    8\n",
      "dtype: int64\n"
     ]
    }
   ],
   "source": [
    "import pandas as pd\n",
    "vowels = pd.Series([1,2,3,4,5],index=list('aeiou'))\n",
    "print()\n",
    "vowels[vowels!='not ten']=10 # all values changed to '10'\n",
    "vowels=vowels/2\n",
    "vowels1 = pd.Series([2,5,6,3,8],index=list('aeiou'))\n",
    "vowels3=vowels1+vowels\n",
    "print(vowels3)\n",
    "Subtract=vowels-vowels1\n",
    "Multiply=vowels*vowels1\n",
    "Divide=vowels/vowels1\n",
    "vowels1.index= ['A', 'E', 'I', 'O', 'U']\n",
    "print(vowels1)"
   ]
  }
 ],
 "metadata": {
  "kernelspec": {
   "display_name": "Python 3",
   "language": "python",
   "name": "python3"
  },
  "language_info": {
   "codemirror_mode": {
    "name": "ipython",
    "version": 3
   },
   "file_extension": ".py",
   "mimetype": "text/x-python",
   "name": "python",
   "nbconvert_exporter": "python",
   "pygments_lexer": "ipython3",
   "version": "3.10.11"
  },
  "orig_nbformat": 4
 },
 "nbformat": 4,
 "nbformat_minor": 2
}
