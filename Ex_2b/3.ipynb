{
 "cells": [
  {
   "cell_type": "code",
   "execution_count": 1,
   "metadata": {},
   "outputs": [
    {
     "name": "stdout",
     "output_type": "stream",
     "text": [
      "Size: 26\n",
      "Dimension: 1\n",
      "Values: ['a' 'b' 'c' 'd' 'e' 'f' 'g' 'h' 'i' 'j' 'k' 'l' 'm' 'n' 'o' 'p' 'q' 'r'\n",
      " 's' 't' 'u' 'v' 'w' 'x' 'y' 'z']\n",
      "Size: 5\n",
      "Dimension: 1\n",
      "Values: [0 0 0 0 0]\n",
      "Size: 5\n",
      "Dimension: 1\n",
      "Values: [1 2 3 4 5]\n",
      "Size: 0\n",
      "Dimension: 1\n",
      "Values: []\n",
      "Size: 12\n",
      "Dimension: 1\n",
      "Values: [31 28 31 30 31 30 31 31 30 31 30 31]\n"
     ]
    }
   ],
   "source": [
    "import numpy as np\n",
    "import pandas as pd\n",
    "\n",
    "#EngAlph\n",
    "EngAlph=pd.Series(['a','b','c','d','e','f','g','h','i','j','k','l','m',\n",
    "                   'n','o','p','q','r','s','t','u','v','w','x','y','z'])\n",
    "print(\"Size:\",EngAlph.size)\n",
    "print(\"Dimension:\",EngAlph.ndim)\n",
    "print(\"Values:\",EngAlph.values)\n",
    "\n",
    "#vowels\n",
    "vow=pd.Series(0,index=['a','e','i','o','u'])\n",
    "print(\"Size:\",vow.size)\n",
    "print(\"Dimension:\",vow.ndim)\n",
    "print(\"Values:\",vow.values)\n",
    "\n",
    "#Friends\n",
    "d={\"Samir\":1,\"Manisha\":2,\"Dhara\":3,\"Shreya\":4,\"Kusum\":5}\n",
    "friends=pd.Series(d)\n",
    "print(\"Size:\",friends.size)\n",
    "print(\"Dimension:\",friends.ndim)\n",
    "print(\"Values:\",friends.values)\n",
    "\n",
    "#Method 1\n",
    "MTseries=pd.Series(dtype=int)\n",
    "\n",
    "#Method 2\n",
    "MTseries.empty\n",
    "\n",
    "print(\"Size:\",MTseries.size)\n",
    "print(\"Dimension:\",MTseries.ndim)\n",
    "print(\"Values:\",MTseries.values)\n",
    "\n",
    "\n",
    "\n",
    "#MonthDays\n",
    "MonthDays=np.array([31,28,31,30,31,30,31,31,30,31,30,31])\n",
    "month=pd.Series(MonthDays,index=np.arange(1,13))\n",
    "print(\"Size:\",month.size)\n",
    "print(\"Dimension:\",month.ndim)\n",
    "print(\"Values:\",month.values)"
   ]
  },
  {
   "cell_type": "code",
   "execution_count": 2,
   "metadata": {},
   "outputs": [
    {
     "name": "stdout",
     "output_type": "stream",
     "text": [
      "Series([], dtype: int32)\n",
      "Series([], Name: SeriesEmpty, dtype: int32)\n"
     ]
    }
   ],
   "source": [
    "import pandas as pd\n",
    "MTseries=pd.Series(dtype=int)\n",
    "print(MTseries)\n",
    "MTseries=MTseries.rename(\"SeriesEmpty\")\n",
    "print(MTseries)"
   ]
  },
  {
   "cell_type": "code",
   "execution_count": 3,
   "metadata": {},
   "outputs": [
    {
     "name": "stdout",
     "output_type": "stream",
     "text": [
      "Index(['Samir', 'Manisha', 'Dhara', 'Shreya', 'Kusum'], dtype='object', name='Fname')\n",
      "Index([1, 2, 3, 4, 5, 6, 7, 8, 9, 10, 11, 12], dtype='int32', name='MonthNo')\n"
     ]
    }
   ],
   "source": [
    "import numpy as np\n",
    "import pandas as pd\n",
    "\n",
    "#Friends\n",
    "d={\"Samir\":1,\"Manisha\":2,\"Dhara\":3,\"Shreya\":4,\"Kusum\":5}\n",
    "friends=pd.Series(d)\n",
    "friends.index.name=\"Fname\"\n",
    "print(friends.index)\n",
    "\n",
    "#MonthDays\n",
    "MonthDays=np.array([31,28,31,30,31,30,31,31,30,31,30,31])\n",
    "month=pd.Series(MonthDays,index=np.arange(1,13))\n",
    "month.index.name=\"MonthNo\"\n",
    "print(month.index)"
   ]
  },
  {
   "cell_type": "code",
   "execution_count": 4,
   "metadata": {},
   "outputs": [
    {
     "name": "stdout",
     "output_type": "stream",
     "text": [
      "Fname\n",
      "Dhara      3\n",
      "Manisha    2\n",
      "dtype: int64\n"
     ]
    }
   ],
   "source": [
    "import numpy as np\n",
    "import pandas as pd\n",
    "\n",
    "#Friends\n",
    "d={\"Samir\":1,\"Manisha\":2,\"Dhara\":3,\"Shreya\":4,\"Kusum\":5}\n",
    "friends=pd.Series(d)\n",
    "friends.index.name=\"Fname\"\n",
    "print(friends.iloc[2:0:-1])"
   ]
  },
  {
   "cell_type": "code",
   "execution_count": 5,
   "metadata": {},
   "outputs": [
    {
     "name": "stdout",
     "output_type": "stream",
     "text": [
      "4     e\n",
      "5     f\n",
      "6     g\n",
      "7     h\n",
      "8     i\n",
      "9     j\n",
      "10    k\n",
      "11    l\n",
      "12    m\n",
      "13    n\n",
      "14    o\n",
      "15    p\n",
      "dtype: object\n"
     ]
    }
   ],
   "source": [
    "import numpy as np\n",
    "import pandas as pd\n",
    "\n",
    "#EngAlph\n",
    "EngAlph=pd.Series(['a','b','c','d','e','f','g','h','i','j','k','l','m',\n",
    "                   'n','o','p','q','r','s','t','u','v','w','x','y','z'])\n",
    "print(EngAlph.iloc[4:16])"
   ]
  },
  {
   "cell_type": "code",
   "execution_count": 6,
   "metadata": {},
   "outputs": [
    {
     "name": "stdout",
     "output_type": "stream",
     "text": [
      "0    a\n",
      "1    b\n",
      "2    c\n",
      "3    d\n",
      "4    e\n",
      "5    f\n",
      "6    g\n",
      "7    h\n",
      "8    i\n",
      "9    j\n",
      "dtype: object\n"
     ]
    }
   ],
   "source": [
    "import numpy as np\n",
    "import pandas as pd\n",
    "\n",
    "#EngAlph\n",
    "EngAlph=pd.Series(['a','b','c','d','e','f','g','h','i','j','k','l','m',\n",
    "                   'n','o','p','q','r','s','t','u','v','w','x','y','z'])\n",
    "print(EngAlph.head(10))"
   ]
  },
  {
   "cell_type": "code",
   "execution_count": 7,
   "metadata": {},
   "outputs": [
    {
     "name": "stdout",
     "output_type": "stream",
     "text": [
      "16    q\n",
      "17    r\n",
      "18    s\n",
      "19    t\n",
      "20    u\n",
      "21    v\n",
      "22    w\n",
      "23    x\n",
      "24    y\n",
      "25    z\n",
      "dtype: object\n"
     ]
    }
   ],
   "source": [
    "import numpy as np\n",
    "import pandas as pd\n",
    "\n",
    "#EngAlph\n",
    "EngAlph=pd.Series(['a','b','c','d','e','f','g','h','i','j','k','l','m',\n",
    "                   'n','o','p','q','r','s','t','u','v','w','x','y','z'])\n",
    "print(EngAlph.tail(10))"
   ]
  }
 ],
 "metadata": {
  "kernelspec": {
   "display_name": "Python 3",
   "language": "python",
   "name": "python3"
  },
  "language_info": {
   "codemirror_mode": {
    "name": "ipython",
    "version": 3
   },
   "file_extension": ".py",
   "mimetype": "text/x-python",
   "name": "python",
   "nbconvert_exporter": "python",
   "pygments_lexer": "ipython3",
   "version": "3.10.11"
  },
  "orig_nbformat": 4
 },
 "nbformat": 4,
 "nbformat_minor": 2
}
