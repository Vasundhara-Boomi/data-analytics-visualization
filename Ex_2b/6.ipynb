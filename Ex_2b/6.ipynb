{
 "cells": [
  {
   "cell_type": "code",
   "execution_count": 2,
   "metadata": {},
   "outputs": [
    {
     "name": "stdout",
     "output_type": "stream",
     "text": [
      "Index(['Madhu', 'Kusum', 'Kinshuk', 'Ankit'], dtype='object')\n"
     ]
    }
   ],
   "source": [
    "import pandas as pd\n",
    "d = {2014:[100.5,150.8,200.9,30000],\n",
    "     2015:[12000,18000,22000,30000],\n",
    "     2016:[20000,50000,70000,100000]}\n",
    "Sales=pd.DataFrame(d,index=['Madhu',\"Kusum\",\"Kinshuk\",\"Ankit\"])\n",
    "print(Sales.index)"
   ]
  },
  {
   "cell_type": "code",
   "execution_count": 14,
   "metadata": {},
   "outputs": [
    {
     "name": "stdout",
     "output_type": "stream",
     "text": [
      "Index([2014, 2015, 2016], dtype='int64')\n"
     ]
    }
   ],
   "source": [
    "print(Sales.columns)"
   ]
  },
  {
   "cell_type": "code",
   "execution_count": 13,
   "metadata": {},
   "outputs": [
    {
     "name": "stdout",
     "output_type": "stream",
     "text": [
      "2014    float64\n",
      "2015      int64\n",
      "2016      int64\n",
      "dtype: object\n"
     ]
    }
   ],
   "source": [
    "print(Sales.dtypes)"
   ]
  },
  {
   "cell_type": "code",
   "execution_count": 12,
   "metadata": {},
   "outputs": [
    {
     "name": "stdout",
     "output_type": "stream",
     "text": [
      "Dimensions: 2\n",
      "Shape: (4, 3)\n",
      "Size: 12\n",
      "Values: [[   100.5  12000.   20000. ]\n",
      " [   150.8  18000.   50000. ]\n",
      " [   200.9  22000.   70000. ]\n",
      " [ 30000.   30000.  100000. ]]\n"
     ]
    }
   ],
   "source": [
    "print(\"Dimensions:\",Sales.ndim)\n",
    "print(\"Shape:\",Sales.shape)\n",
    "print(\"Size:\",Sales.size)\n",
    "print(\"Values:\",Sales.values)"
   ]
  },
  {
   "cell_type": "code",
   "execution_count": 11,
   "metadata": {},
   "outputs": [
    {
     "name": "stdout",
     "output_type": "stream",
     "text": [
      "            2014   2015    2016\n",
      "Kinshuk    200.9  22000   70000\n",
      "Ankit    30000.0  30000  100000\n"
     ]
    }
   ],
   "source": [
    "print(Sales.tail(2))"
   ]
  },
  {
   "cell_type": "code",
   "execution_count": 10,
   "metadata": {},
   "outputs": [
    {
     "name": "stdout",
     "output_type": "stream",
     "text": [
      "            2014   2015\n",
      "Madhu      100.5  12000\n",
      "Kusum      150.8  18000\n",
      "Kinshuk    200.9  22000\n",
      "Ankit    30000.0  30000\n"
     ]
    }
   ],
   "source": [
    "print(Sales[Sales.columns[0:2]])"
   ]
  },
  {
   "cell_type": "code",
   "execution_count": 8,
   "metadata": {},
   "outputs": [
    {
     "name": "stdout",
     "output_type": "stream",
     "text": [
      "           2018\n",
      "Madhu    160000\n",
      "Kusum    110000\n",
      "Kinshuk  500000\n",
      "Ankit    340000\n"
     ]
    }
   ],
   "source": [
    "import pandas as pd\n",
    "dict1={2018:[160000,110000,500000,340000]}\n",
    "sales2=pd.DataFrame(dict1,index=[\"Madhu\",\"Kusum\",\"Kinshuk\",\"Ankit\"])\n",
    "print(sales2)"
   ]
  },
  {
   "cell_type": "code",
   "execution_count": 9,
   "metadata": {},
   "outputs": [
    {
     "name": "stdout",
     "output_type": "stream",
     "text": [
      "False\n"
     ]
    }
   ],
   "source": [
    "print(sales2.empty)"
   ]
  }
 ],
 "metadata": {
  "kernelspec": {
   "display_name": "Python 3",
   "language": "python",
   "name": "python3"
  },
  "language_info": {
   "codemirror_mode": {
    "name": "ipython",
    "version": 3
   },
   "file_extension": ".py",
   "mimetype": "text/x-python",
   "name": "python",
   "nbconvert_exporter": "python",
   "pygments_lexer": "ipython3",
   "version": "3.10.11"
  },
  "orig_nbformat": 4
 },
 "nbformat": 4,
 "nbformat_minor": 2
}
