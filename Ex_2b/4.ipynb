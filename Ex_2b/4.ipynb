{
 "cells": [
  {
   "cell_type": "code",
   "execution_count": 2,
   "metadata": {},
   "outputs": [
    {
     "name": "stdout",
     "output_type": "stream",
     "text": [
      "Mar     31\n",
      "Apr     30\n",
      "May     31\n",
      "June    30\n",
      "July    31\n",
      "dtype: int32\n"
     ]
    }
   ],
   "source": [
    "import numpy as np\n",
    "import pandas as pd\n",
    "\n",
    "#MonthDays\n",
    "MonthDays=np.array([31,28,31,30,31,30,31,31,30,31,30,31])\n",
    "month=pd.Series(MonthDays,index=np.arange(1,13))\n",
    "month=pd.Series(MonthDays,index=[\"Jan\",\"Feb\",\"Mar\",\"Apr\",\"May\",\"June\",\n",
    "                         \"July\",\"Aug\",\"Sept\",\"Oct\",\"Nov\",\"Dec\"])\n",
    "#Method 1\n",
    "print(month.iloc[2:7])\n",
    "\n",
    "#Method 2\n",
    "#print(month.loc['Mar':'July'])\n",
    "\n",
    "#Method 3\n",
    "#print(month['Mar':'July'])"
   ]
  },
  {
   "cell_type": "code",
   "execution_count": 4,
   "metadata": {},
   "outputs": [
    {
     "name": "stdout",
     "output_type": "stream",
     "text": [
      "Dec     31\n",
      "Nov     30\n",
      "Oct     31\n",
      "Sept    30\n",
      "Aug     31\n",
      "July    31\n",
      "June    30\n",
      "May     31\n",
      "Apr     30\n",
      "Mar     31\n",
      "Feb     28\n",
      "Jan     31\n",
      "dtype: int32\n"
     ]
    }
   ],
   "source": [
    "import numpy as np\n",
    "import pandas as pd\n",
    "\n",
    "#Method 1\n",
    "print(month[::-1])\n",
    "\n",
    "#Method 2\n",
    "#print(month.iloc[::-1])\n",
    "\n",
    "#Method 3\n",
    "#print(month.loc[\"Dec\":\"Jan\":-1])"
   ]
  }
 ],
 "metadata": {
  "kernelspec": {
   "display_name": "Python 3",
   "language": "python",
   "name": "python3"
  },
  "language_info": {
   "codemirror_mode": {
    "name": "ipython",
    "version": 3
   },
   "file_extension": ".py",
   "mimetype": "text/x-python",
   "name": "python",
   "nbconvert_exporter": "python",
   "pygments_lexer": "ipython3",
   "version": "3.10.11"
  },
  "orig_nbformat": 4
 },
 "nbformat": 4,
 "nbformat_minor": 2
}
